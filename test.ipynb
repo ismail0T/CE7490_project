{
 "cells": [
  {
   "cell_type": "code",
   "execution_count": 1,
   "metadata": {},
   "outputs": [],
   "source": [
    "import subprocess\n",
    "import numpy as np\n",
    "import networkx as nx\n",
    "import Utils\n",
    "from collections import defaultdict\n",
    "\n",
    "\n",
    "pathhack = \"/home/ismail/Dev/Ego_Facebook\"\n",
    "G = nx.read_edgelist(\"%s/facebook_combined.txt\" % (pathhack,), create_using=nx.Graph(), nodetype=int).to_directed()\n",
    "G = Utils.add_weights(G)\n",
    "G = Utils.to_undirected(G)\n",
    "G_dict = Utils.nx_to_dict(G)\n",
    "\n",
    "\n",
    "def to_metis_file(G, file_name, fmt=\"011\"):\n",
    "    f = open(\"%s\" % file_name, \"w\")\n",
    "    n = G.order()\n",
    "    m = G.number_of_edges()\n",
    "    line = str(n) + \" \" + str(m) + \" \" + str(fmt)\n",
    "    f.write(line+\"\\n\")\n",
    "\n",
    "    A = nx.adjacency_matrix(G)\n",
    "    np_matrix = A.todense()\n",
    "    array_matrix = list(np.array(np_matrix))\n",
    "    for i in range(len(array_matrix)):\n",
    "        line = str(G.nodes[i][\"write\"]) + \" \"\n",
    "        for j in range(len(array_matrix[i])):\n",
    "            if array_matrix[i][j] > 0:\n",
    "                line += str(j+1) + \" \"  # +1 is added to start counting from 1\n",
    "                line += str(np_matrix[i, j]) + \" \"\n",
    "        f.write(line+\"\\n\")\n",
    "\n",
    "    f.close()\n",
    "\n",
    "\n",
    "def get_read_traffic(G, nb_partition=2):\n",
    "    file_name = '../test.txt'\n",
    "    to_metis_file(G, file_name)\n",
    "    read_traffic = 0\n",
    "    output_text = subprocess.run(['gpmetis', file_name, str(nb_partition)], stdout=subprocess.PIPE).stdout.decode('utf-8')\n",
    "\n",
    "    for item in output_text.split(\"\\n\"):\n",
    "        if \"Edgecut\" in item:\n",
    "            read_traffic = [int(s) for s in item.replace(\",\", \"\").split() if s.isdigit()][0]\n",
    "\n",
    "    # print(output_text)\n",
    "    return read_traffic\n",
    "\n",
    "\n",
    "def selective_replica(G_dict, G_servers, nb_partition=2):\n",
    "    sum_in = defaultdict(lambda: np.zeros(nb_partition))\n",
    "    G_replica_0 = defaultdict(list)\n",
    "    for u in G_dict:\n",
    "        for v in G_dict[u][\"neighbors\"]:\n",
    "            if G_servers[u] != G_servers[v]:\n",
    "                sum_in[v][G_servers[u]] += G_dict[u][\"neighbors\"][v]\n",
    "    # print(len(sum_in))\n",
    "    for none, key in enumerate(sum_in):\n",
    "        for server_id, read_weight in enumerate(sum_in[key]):\n",
    "            if G_dict[key][\"write\"] < read_weight:  # Do replication\n",
    "                G_replica_0[key].append(server_id)\n",
    "\n",
    "    return G_replica_0\n",
    "\n",
    "\n",
    "def read_servers(nb_partition):\n",
    "    servers = defaultdict(lambda: -1)\n",
    "    file1 = open('../test.txt.part.'+str(nb_partition), 'r')\n",
    "    Lines = file1.readlines()\n",
    "    node_id = 0\n",
    "\n",
    "    for line in Lines:\n",
    "        server_id = int(line.strip())\n",
    "        servers[node_id] = server_id\n",
    "        node_id += 1\n",
    "\n",
    "    return servers\n",
    "\n",
    "\n",
    "\n",
    "\n",
    "\n",
    "# print(nb_partition_max, read_traffic_metis, len(G_servers))\n",
    "\n",
    "# for nb_partition_max in [4, 8, 16, 32, 64, 128]:\n",
    "#     print(nb_partition_max, get_read_traffic(G, nb_partition=nb_partition_max))\n",
    "\n",
    "\n",
    "\n"
   ]
  },
  {
   "cell_type": "code",
   "execution_count": 18,
   "metadata": {},
   "outputs": [
    {
     "name": "stdout",
     "output_type": "stream",
     "text": [
      "178963\n",
      "cost_RPSR_replica= 908\n",
      "cost_RPSR_traffic= 189709.0\n"
     ]
    }
   ],
   "source": [
    "nb_partition_max = 512\n",
    "read_traffic_metis = get_read_traffic(G, nb_partition=nb_partition_max)\n",
    "G_servers = read_servers(nb_partition_max)\n",
    "G_replica = selective_replica(G_dict, G_servers, nb_partition=nb_partition_max)\n",
    "\n",
    "cost_RPSR_replica = Utils.spar_inter_server_cost(G_replica)\n",
    "cost_RPSR_traffic = Utils.spar_inter_server_traffic(G_dict, G_servers, G_replica)\n",
    "\n",
    "print(read_traffic_metis)\n",
    "print(\"cost_RPSR_replica=\", cost_RPSR_replica)\n",
    "print(\"cost_RPSR_traffic=\", cost_RPSR_traffic)"
   ]
  },
  {
   "cell_type": "code",
   "execution_count": 19,
   "metadata": {},
   "outputs": [
    {
     "name": "stdout",
     "output_type": "stream",
     "text": [
      "908\n"
     ]
    }
   ],
   "source": [
    "total=0\n",
    "for key in G_replica:\n",
    "    total += len(G_replica[key])\n",
    "\n",
    "print(total)"
   ]
  },
  {
   "cell_type": "code",
   "execution_count": 5,
   "metadata": {},
   "outputs": [
    {
     "data": {
      "text/plain": [
       "[60,\n",
       " 64,\n",
       " 65,\n",
       " 66,\n",
       " 67,\n",
       " 68,\n",
       " 69,\n",
       " 71,\n",
       " 75,\n",
       " 76,\n",
       " 77,\n",
       " 78,\n",
       " 79,\n",
       " 112,\n",
       " 113,\n",
       " 114,\n",
       " 115,\n",
       " 120,\n",
       " 121]"
      ]
     },
     "execution_count": 5,
     "metadata": {},
     "output_type": "execute_result"
    }
   ],
   "source": [
    "G_replica[0]"
   ]
  },
  {
   "cell_type": "code",
   "execution_count": null,
   "metadata": {},
   "outputs": [],
   "source": []
  }
 ],
 "metadata": {
  "kernelspec": {
   "display_name": "Python 3",
   "language": "python",
   "name": "python3"
  },
  "language_info": {
   "codemirror_mode": {
    "name": "ipython",
    "version": 3
   },
   "file_extension": ".py",
   "mimetype": "text/x-python",
   "name": "python",
   "nbconvert_exporter": "python",
   "pygments_lexer": "ipython3",
   "version": "3.7.7"
  }
 },
 "nbformat": 4,
 "nbformat_minor": 4
}
